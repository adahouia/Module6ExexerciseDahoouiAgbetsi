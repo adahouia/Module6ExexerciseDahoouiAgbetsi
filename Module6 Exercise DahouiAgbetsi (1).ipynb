{
 "cells": [
  {
   "cell_type": "markdown",
   "metadata": {},
   "source": [
    "### Exercise 1\n",
    "Convert following decimal number to a binary number by hand:\n",
    "\n",
    "    61\n",
    "    15\n",
    "    71\n",
    "    "
   ]
  },
  {
   "cell_type": "code",
   "execution_count": null,
   "metadata": {},
   "outputs": [],
   "source": [
    "#61 to binary number\n",
    "    # 61 // 2 = 30       61 % 2 = 1\n",
    "    # 30 // 2 = 15       30 % 2 = 0\n",
    "    # 15 // 2 = 7        15 % 2 = 1\n",
    "    # 7 // 2 = 3         7 % 2 = 1\n",
    "    # 3 // 2 = 1         3 % 2 = 1\n",
    "    # 1 // 2 = 0         1 % 2 = 1\n",
    "    # bin(61)   ===> 0b111101\n",
    "    \n",
    "#15 to binary number\n",
    "    # 15 // 2 = 7        15 % 2 = 1\n",
    "    # 7 // 2 = 3         7 % 2 = 1\n",
    "    # 3 // 2 = 1         3 % 2 = 1\n",
    "    # 1 // 2 = 0         1 % 2 = 1\n",
    "    # bin(15)   ===> 0b1111\n",
    "    \n",
    "#71 to binary number\n",
    "    # 71 // 2 = 35       71 % 2 = 1\n",
    "    # 35 // 2 = 17       35 % 2 = 1\n",
    "    # 17 // 2 = 8        17 % 2 = 1\n",
    "    # 8 // 2 = 4         8 % 2 = 0\n",
    "    # 4 // 2 = 2         4 % 2 = 0\n",
    "    # 2 // 2 = 1         2 % 2 = 0\n",
    "    # 1 // 2 = 0         1 % 2 = 1\n",
    "    # bin(71)   ===> 0b1000111"
   ]
  },
  {
   "cell_type": "markdown",
   "metadata": {},
   "source": [
    "### Exercise 2\n",
    "When a = 61 and b = 15, what is the result of following bitwise opertion? Use inline comments to show your result in a binary number. Find your answer by hand.\n",
    "\n",
    "    a & b\n",
    "    a | b\n",
    "    a ^ b\n",
    "    a >> 2\n",
    "    "
   ]
  },
  {
   "cell_type": "code",
   "execution_count": null,
   "metadata": {},
   "outputs": [],
   "source": [
    "# convert a in to a binary number\n",
    "    # a = 61\n",
    "    # bin(61)  ===> 0b111101\n",
    "\n",
    "# convert b in to a binary number\n",
    "    # b = 15\n",
    "    # bin(15) ====> 0b1111\n"
   ]
  },
  {
   "cell_type": "code",
   "execution_count": null,
   "metadata": {},
   "outputs": [],
   "source": [
    "# a & b  \n",
    "    #   61 in binary   00111101\n",
    "    #   15 in binary   00001111\n",
    "    #                --------------\n",
    "    #   Result is     00001101 \n",
    "    # So,61 & 15 in binary is 0b1101 \n",
    "   \n"
   ]
  },
  {
   "cell_type": "code",
   "execution_count": null,
   "metadata": {},
   "outputs": [],
   "source": [
    "# a | b\n",
    "    #   61 in binary   00111101\n",
    "    #   15 in binary   00001111\n",
    "    #                --------------\n",
    "    #   Result is      00111111\n",
    "    # So,61 | 15 in binary is 0b111111"
   ]
  },
  {
   "cell_type": "code",
   "execution_count": null,
   "metadata": {},
   "outputs": [],
   "source": [
    "# a ^ b \n",
    "    #   61 in binary   00111101\n",
    "    #   15 in binary   00001111\n",
    "    #                --------------\n",
    "    #   Result is      00110010\n",
    "    # So,61 ^ 15 in binary is 0b110010"
   ]
  },
  {
   "cell_type": "code",
   "execution_count": null,
   "metadata": {},
   "outputs": [],
   "source": [
    "# a >> 2\n",
    "    #   61 in binary                00111101\n",
    "    # shift to the right will be      00111101\n",
    "    # so, we will add 00 at the front and leave 01 at the end\n",
    "    # a >> 2 will be 00001111\n",
    "    # in binary notation a >> 2 will be 0b1111"
   ]
  },
  {
   "cell_type": "markdown",
   "metadata": {},
   "source": [
    "### Exercise 3\n",
    "Ask a user for a code and store that answer. \n",
    "If the answer is <b>grey</b> then print \"You found secret code.\"\n",
    "Otherwise print that the entered code is not the secret code."
   ]
  },
  {
   "cell_type": "code",
   "execution_count": 13,
   "metadata": {},
   "outputs": [
    {
     "name": "stdout",
     "output_type": "stream",
     "text": [
      "Enter a code: \n",
      "pattern\n",
      "The code is not a secret code.\n"
     ]
    }
   ],
   "source": [
    "\n",
    "print(\"Enter a code: \")                 # Ask user to enter code\n",
    "code = input()                          # store into code\n",
    "if code == \"grey\" :                     # use if/else statement to display the answer\n",
    "    print(\"You found secret code.\")\n",
    "else :\n",
    "    print(\"The code is not a secret code.\")"
   ]
  },
  {
   "cell_type": "markdown",
   "metadata": {},
   "source": [
    "### Exercise 4\n",
    "Ask for an exam score and store that number. If the number is greater than 100, then print out 'You cannot have an exam score higher than 100'. If the number doesn't exceeed 100 but is greater than or equal to 75, then print out 'You did great on your exam!'. Otherwise if they scored lower than 75, then print out 'You need to study harder'."
   ]
  },
  {
   "cell_type": "code",
   "execution_count": 37,
   "metadata": {},
   "outputs": [
    {
     "name": "stdout",
     "output_type": "stream",
     "text": [
      "Your exam score: 65\n",
      "You need to study harder\n"
     ]
    }
   ],
   "source": [
    "score = int(input(\"Your exam score: \"))\n",
    "if score > 100 :\n",
    "    print(\"You cannot have an exam score higher than 100\")\n",
    "elif (score <= 100) and (score >= 75) :\n",
    "    print(\"You did great on your exam!\")\n",
    "elif score < 75 :\n",
    "    print(\"You need to study harder\")\n",
    "    "
   ]
  },
  {
   "cell_type": "markdown",
   "metadata": {},
   "source": [
    "### Exercise 5\n",
    "Write a function to convert a test score to a grade where  \n",
    " - 90 - 100: A\n",
    " - 80 - 89:  B\n",
    " - 70 - 79:  C\n",
    " - 60 - 69:  D\n",
    " - < 60   :  F\n",
    " \n",
    "If a score is not between 0 and 100 then print out an error message. In the program, ask the user for a score and then call your function. "
   ]
  },
  {
   "cell_type": "code",
   "execution_count": 58,
   "metadata": {},
   "outputs": [],
   "source": [
    "# define your function\n",
    "def school(score) :\n",
    "    if (score >= 90) and (score <=100) :\n",
    "        print(\"A\")\n",
    "    elif (score >= 80) and (score <= 89) :\n",
    "        print(\"B\")\n",
    "    elif (score >= 70) and (score <=79) :\n",
    "        print(\"C\")\n",
    "    elif (score >= 60) and (score <= 69) :\n",
    "        print(\"D\")\n",
    "    elif (score < 60) :\n",
    "        print(\"F\")\n",
    "    else :\n",
    "        print(\"Error, test score should be from 0 to 100\")"
   ]
  },
  {
   "cell_type": "code",
   "execution_count": 59,
   "metadata": {},
   "outputs": [
    {
     "name": "stdout",
     "output_type": "stream",
     "text": [
      "Enter a test score: 0\n",
      "F\n"
     ]
    }
   ],
   "source": [
    "# ask the user for a score and then call your function\n",
    "score = int(input(\"Enter a test score: \"))\n",
    "school(score)\n"
   ]
  },
  {
   "cell_type": "code",
   "execution_count": null,
   "metadata": {},
   "outputs": [],
   "source": []
  }
 ],
 "metadata": {
  "kernelspec": {
   "display_name": "Python 3",
   "language": "python",
   "name": "python3"
  },
  "language_info": {
   "codemirror_mode": {
    "name": "ipython",
    "version": 3
   },
   "file_extension": ".py",
   "mimetype": "text/x-python",
   "name": "python",
   "nbconvert_exporter": "python",
   "pygments_lexer": "ipython3",
   "version": "3.8.8"
  }
 },
 "nbformat": 4,
 "nbformat_minor": 4
}
